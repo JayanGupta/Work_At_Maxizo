{
  "cells": [
    {
      "cell_type": "code",
      "execution_count": null,
      "metadata": {
        "id": "Ytfhe_AQOHUP"
      },
      "outputs": [],
      "source": [
        "import pandas as pd"
      ]
    },
    {
      "cell_type": "code",
      "execution_count": null,
      "metadata": {
        "id": "nT4WE11yOHUX"
      },
      "outputs": [],
      "source": [
        "from transformers import AutoTokenizer, AutoModelForSequenceClassification\n",
        "import scipy\n",
        "import torch"
      ]
    },
    {
      "cell_type": "code",
      "execution_count": null,
      "metadata": {
        "colab": {
          "base_uri": "https://localhost:8080/",
          "height": 104,
          "referenced_widgets": [
            "f9e42423f6c94d4080eebaa5059c3b28",
            "2fee5d3eff2a43f0b84c272bc4715f56",
            "a864420df4544130b3263ff08a28c50f",
            "9587d2a9f05149c597384bd073822e0c",
            "4f32cdc367bb45c2a8f6e8793e694125",
            "29f28450694842b7b19cc28e48403670",
            "b31ca75a2e4946cc8024a6d437b42257",
            "06ef7219452c4f5c9175b90bc9cd6112",
            "7b7c75c874fb4dc3a9be6f4985d0724f",
            "e6f69db1aed94daaa977baeeb6213141",
            "2ffdc58486fa4d38a718ea33de8cd6d4"
          ]
        },
        "id": "DvsMWJNkOHUX",
        "outputId": "fb8dcdb5-3f37-4cc9-8995-cc4f59cbcebb"
      },
      "outputs": [
        {
          "output_type": "stream",
          "name": "stderr",
          "text": [
            "/usr/local/lib/python3.10/dist-packages/transformers/tokenization_utils_base.py:1601: FutureWarning: `clean_up_tokenization_spaces` was not set. It will be set to `True` by default. This behavior will be depracted in transformers v4.45, and will be then set to `False` by default. For more details check this issue: https://github.com/huggingface/transformers/issues/31884\n",
            "  warnings.warn(\n"
          ]
        },
        {
          "output_type": "display_data",
          "data": {
            "text/plain": [
              "pytorch_model.bin:   0%|          | 0.00/438M [00:00<?, ?B/s]"
            ],
            "application/vnd.jupyter.widget-view+json": {
              "version_major": 2,
              "version_minor": 0,
              "model_id": "f9e42423f6c94d4080eebaa5059c3b28"
            }
          },
          "metadata": {}
        }
      ],
      "source": [
        "tokenizer = AutoTokenizer.from_pretrained(\"ProsusAI/finbert\")\n",
        "model = AutoModelForSequenceClassification.from_pretrained(\"ProsusAI/finbert\")"
      ]
    },
    {
      "cell_type": "code",
      "source": [
        "from transformers import BertTokenizer\n",
        "\n",
        "def create_dataframe_from_text(file_path):\n",
        "    # Read the content of the text file\n",
        "    with open(file_path, 'r') as file:\n",
        "        content = file.read()\n",
        "\n",
        "    # Create a DataFrame\n",
        "    data = {\n",
        "        \"date\": [\"N/A\"],  # Placeholder; you can modify to extract date if present\n",
        "        \"ticker\": [\"N/A\"],  # Placeholder; adjust as needed\n",
        "        \"headline\": [\"N/A\"],  # Placeholder; adjust as needed\n",
        "        \"content\": [content]\n",
        "    }\n",
        "\n",
        "    df = pd.DataFrame(data)\n",
        "\n",
        "    # Tokenize the content for BERT\n",
        "    tokenizer = AutoTokenizer.from_pretrained(\"ProsusAI/finbert\")\n",
        "    df['input_ids'] = df['content'].apply(lambda x: tokenizer.encode(x, add_special_tokens=True,truncation=True, max_length=512))\n",
        "\n",
        "    return df\n",
        "\n",
        "file_path = \"/content/news2.txt\"  # Replace with your text file path\n",
        "df = create_dataframe_from_text(file_path)\n"
      ],
      "metadata": {
        "id": "gRf91bDeZmWm",
        "colab": {
          "base_uri": "https://localhost:8080/"
        },
        "outputId": "c2af9966-7870-4ff4-d344-0dae79a8f196"
      },
      "execution_count": null,
      "outputs": [
        {
          "output_type": "stream",
          "name": "stderr",
          "text": [
            "/usr/local/lib/python3.10/dist-packages/transformers/tokenization_utils_base.py:1601: FutureWarning: `clean_up_tokenization_spaces` was not set. It will be set to `True` by default. This behavior will be depracted in transformers v4.45, and will be then set to `False` by default. For more details check this issue: https://github.com/huggingface/transformers/issues/31884\n",
            "  warnings.warn(\n"
          ]
        }
      ]
    },
    {
      "cell_type": "code",
      "execution_count": null,
      "metadata": {
        "id": "Fs_79ElnOHUX"
      },
      "outputs": [],
      "source": [
        "def finbert_sentiment(text: str) -> tuple[float, float, float, str]:\n",
        "    with torch.no_grad():\n",
        "        inputs = tokenizer(\n",
        "            text, return_tensors=\"pt\", padding=True, truncation=True, max_length=512\n",
        "        )\n",
        "        outputs = model(**inputs)\n",
        "        logits = outputs.logits\n",
        "        scores = {\n",
        "            k: v\n",
        "            for k, v in zip(\n",
        "                model.config.id2label.values(),\n",
        "                scipy.special.softmax(logits.numpy().squeeze()),\n",
        "            )\n",
        "        }\n",
        "        return (\n",
        "            scores[\"positive\"],\n",
        "            scores[\"negative\"],\n",
        "            scores[\"neutral\"],\n",
        "            max(scores, key=scores.get),\n",
        "        )"
      ]
    },
    {
      "cell_type": "code",
      "execution_count": null,
      "metadata": {
        "id": "a1dwSnfEOHUX"
      },
      "outputs": [],
      "source": [
        "# Notice that this is the raw text, no preprocessing\n",
        "df[[\"finbert_pos\", \"finbert_neg\", \"finbert_neu\", \"finbert_sentiment\"]] = (\n",
        "    df[\"content\"].apply(finbert_sentiment).apply(pd.Series)\n",
        ")\n",
        "df[\"finbert_score\"] = df[\"finbert_pos\"] - df[\"finbert_neg\"]"
      ]
    },
    {
      "cell_type": "code",
      "execution_count": null,
      "metadata": {
        "colab": {
          "base_uri": "https://localhost:8080/",
          "height": 81
        },
        "id": "laqmF-WAOHUX",
        "outputId": "038e6b45-403d-4dcb-83a0-0bb066d523c2"
      },
      "outputs": [
        {
          "output_type": "execute_result",
          "data": {
            "text/plain": [
              "                                             content  finbert_pos  \\\n",
              "0  **Mukul Corp Reports Q3 Earnings with Mixed Re...     0.064218   \n",
              "\n",
              "   finbert_neg  finbert_neu finbert_sentiment  finbert_score  \n",
              "0     0.818705     0.117077          negative      -0.754487  "
            ],
            "text/html": [
              "\n",
              "  <div id=\"df-e50d58d5-321a-4c36-9eae-b6c704231962\" class=\"colab-df-container\">\n",
              "    <div>\n",
              "<style scoped>\n",
              "    .dataframe tbody tr th:only-of-type {\n",
              "        vertical-align: middle;\n",
              "    }\n",
              "\n",
              "    .dataframe tbody tr th {\n",
              "        vertical-align: top;\n",
              "    }\n",
              "\n",
              "    .dataframe thead th {\n",
              "        text-align: right;\n",
              "    }\n",
              "</style>\n",
              "<table border=\"1\" class=\"dataframe\">\n",
              "  <thead>\n",
              "    <tr style=\"text-align: right;\">\n",
              "      <th></th>\n",
              "      <th>content</th>\n",
              "      <th>finbert_pos</th>\n",
              "      <th>finbert_neg</th>\n",
              "      <th>finbert_neu</th>\n",
              "      <th>finbert_sentiment</th>\n",
              "      <th>finbert_score</th>\n",
              "    </tr>\n",
              "  </thead>\n",
              "  <tbody>\n",
              "    <tr>\n",
              "      <th>0</th>\n",
              "      <td>**Mukul Corp Reports Q3 Earnings with Mixed Re...</td>\n",
              "      <td>0.064218</td>\n",
              "      <td>0.818705</td>\n",
              "      <td>0.117077</td>\n",
              "      <td>negative</td>\n",
              "      <td>-0.754487</td>\n",
              "    </tr>\n",
              "  </tbody>\n",
              "</table>\n",
              "</div>\n",
              "    <div class=\"colab-df-buttons\">\n",
              "\n",
              "  <div class=\"colab-df-container\">\n",
              "    <button class=\"colab-df-convert\" onclick=\"convertToInteractive('df-e50d58d5-321a-4c36-9eae-b6c704231962')\"\n",
              "            title=\"Convert this dataframe to an interactive table.\"\n",
              "            style=\"display:none;\">\n",
              "\n",
              "  <svg xmlns=\"http://www.w3.org/2000/svg\" height=\"24px\" viewBox=\"0 -960 960 960\">\n",
              "    <path d=\"M120-120v-720h720v720H120Zm60-500h600v-160H180v160Zm220 220h160v-160H400v160Zm0 220h160v-160H400v160ZM180-400h160v-160H180v160Zm440 0h160v-160H620v160ZM180-180h160v-160H180v160Zm440 0h160v-160H620v160Z\"/>\n",
              "  </svg>\n",
              "    </button>\n",
              "\n",
              "  <style>\n",
              "    .colab-df-container {\n",
              "      display:flex;\n",
              "      gap: 12px;\n",
              "    }\n",
              "\n",
              "    .colab-df-convert {\n",
              "      background-color: #E8F0FE;\n",
              "      border: none;\n",
              "      border-radius: 50%;\n",
              "      cursor: pointer;\n",
              "      display: none;\n",
              "      fill: #1967D2;\n",
              "      height: 32px;\n",
              "      padding: 0 0 0 0;\n",
              "      width: 32px;\n",
              "    }\n",
              "\n",
              "    .colab-df-convert:hover {\n",
              "      background-color: #E2EBFA;\n",
              "      box-shadow: 0px 1px 2px rgba(60, 64, 67, 0.3), 0px 1px 3px 1px rgba(60, 64, 67, 0.15);\n",
              "      fill: #174EA6;\n",
              "    }\n",
              "\n",
              "    .colab-df-buttons div {\n",
              "      margin-bottom: 4px;\n",
              "    }\n",
              "\n",
              "    [theme=dark] .colab-df-convert {\n",
              "      background-color: #3B4455;\n",
              "      fill: #D2E3FC;\n",
              "    }\n",
              "\n",
              "    [theme=dark] .colab-df-convert:hover {\n",
              "      background-color: #434B5C;\n",
              "      box-shadow: 0px 1px 3px 1px rgba(0, 0, 0, 0.15);\n",
              "      filter: drop-shadow(0px 1px 2px rgba(0, 0, 0, 0.3));\n",
              "      fill: #FFFFFF;\n",
              "    }\n",
              "  </style>\n",
              "\n",
              "    <script>\n",
              "      const buttonEl =\n",
              "        document.querySelector('#df-e50d58d5-321a-4c36-9eae-b6c704231962 button.colab-df-convert');\n",
              "      buttonEl.style.display =\n",
              "        google.colab.kernel.accessAllowed ? 'block' : 'none';\n",
              "\n",
              "      async function convertToInteractive(key) {\n",
              "        const element = document.querySelector('#df-e50d58d5-321a-4c36-9eae-b6c704231962');\n",
              "        const dataTable =\n",
              "          await google.colab.kernel.invokeFunction('convertToInteractive',\n",
              "                                                    [key], {});\n",
              "        if (!dataTable) return;\n",
              "\n",
              "        const docLinkHtml = 'Like what you see? Visit the ' +\n",
              "          '<a target=\"_blank\" href=https://colab.research.google.com/notebooks/data_table.ipynb>data table notebook</a>'\n",
              "          + ' to learn more about interactive tables.';\n",
              "        element.innerHTML = '';\n",
              "        dataTable['output_type'] = 'display_data';\n",
              "        await google.colab.output.renderOutput(dataTable, element);\n",
              "        const docLink = document.createElement('div');\n",
              "        docLink.innerHTML = docLinkHtml;\n",
              "        element.appendChild(docLink);\n",
              "      }\n",
              "    </script>\n",
              "  </div>\n",
              "\n",
              "\n",
              "    </div>\n",
              "  </div>\n"
            ],
            "application/vnd.google.colaboratory.intrinsic+json": {
              "type": "dataframe",
              "summary": "{\n  \"name\": \"]\",\n  \"rows\": 1,\n  \"fields\": [\n    {\n      \"column\": \"content\",\n      \"properties\": {\n        \"dtype\": \"string\",\n        \"num_unique_values\": 1,\n        \"samples\": [\n          \"**Mukul Corp Reports Q3 Earnings with Mixed Results and Future Outlook**\\n\\n*September 27, 2024*\\n\\n**New York, NY** \\u2013 Mukul Corp (MUKL) has released its Q3 financial results, revealing both strong growth in certain areas and challenges in others. The company reported total revenue of **$150 million**, marking a **20% increase** year-over-year. However, despite this growth, net income for the quarter was **$30 million**, down from **$35 million** in Q3 of the previous year, reflecting rising operational costs.\\n\\n### Financial Highlights\\n\\n- **Revenue:** $150 million (up 20% YoY)\\n- **Net Income:** $30 million (down from $35 million YoY)\\n- **Earnings Per Share (EPS):** $0.75 (compared to $0.85 last year)\\n- **Gross Margin:** 60%, consistent with previous quarters\\n- **Operating Expenses:** $70 million, a 15% increase due to investments in R&D and marketing, as well as higher supply chain costs\\n\\n### Cash Flow Statement\\n\\n**For the Quarter Ended September 30, 2024:**\\n\\n- **Operating Activities:**\\n  - Net Income: $30 million\\n  - Adjustments for Non-Cash Items:\\n    - Depreciation & Amortization: $5 million\\n    - Stock-Based Compensation: $2 million\\n  - Changes in Working Capital:\\n    - Accounts Receivable: ($10 million)\\n    - Accounts Payable: $8 million\\n  - **Net Cash Provided by Operating Activities:** $35 million, reflecting strong operational performance despite some cash flow challenges.\\n\\n- **Investing Activities:**\\n  - Capital Expenditures: ($15 million)\\n  - Acquisition of New Technology: ($5 million)\\n  - **Net Cash Used in Investing Activities:** ($20 million), as the company continues to invest in future growth.\\n\\n- **Financing Activities:**\\n  - Proceeds from Long-Term Debt: $10 million\\n  - Dividends Paid: ($5 million)\\n  - **Net Cash Provided by Financing Activities:** $5 million\\n\\n- **Net Increase in Cash:** $20 million  \\n- **Cash and Cash Equivalents at Beginning of Period:** $50 million  \\n- **Cash and Cash Equivalents at End of Period:** $70 million, positioning the company well for upcoming investments.\\n\\n### Outlook\\n\\nLooking ahead, Mukul Corp anticipates continued growth driven by the launch of its new product line targeted at small businesses. However, the company also faces potential headwinds from rising raw material costs and increased competition. Q4 revenue is expected to range between **$160 million and $170 million**, a target that reflects optimism but is contingent on market conditions.\\n\\n**CEO Maya Singh commented,** \\\"While we are pleased with our revenue growth, we recognize the challenges that lie ahead. Our strong cash flow allows us to reinvest in innovation, but we must remain vigilant about managing our expenses and adapting to market dynamics.\\\"\\n\\n### About Mukul Corp\\n\\nFounded in 2010, Mukul Corp specializes in cutting-edge technology solutions tailored for businesses of all sizes. The company is headquartered in New York City and operates globally.\\n\\nFor more information, visit [Mukul Corp\\u2019s website](#).\\n\\n*Contact:*  \\nJane Doe  \\nPublic Relations Manager  \\nMukul Corp  \\njane.doe@mukulcorp.com  \\n(555) 123-4567\"\n        ],\n        \"semantic_type\": \"\",\n        \"description\": \"\"\n      }\n    },\n    {\n      \"column\": \"finbert_pos\",\n      \"properties\": {\n        \"dtype\": \"float32\",\n        \"num_unique_values\": 1,\n        \"samples\": [\n          0.06421815603971481\n        ],\n        \"semantic_type\": \"\",\n        \"description\": \"\"\n      }\n    },\n    {\n      \"column\": \"finbert_neg\",\n      \"properties\": {\n        \"dtype\": \"float32\",\n        \"num_unique_values\": 1,\n        \"samples\": [\n          0.8187050223350525\n        ],\n        \"semantic_type\": \"\",\n        \"description\": \"\"\n      }\n    },\n    {\n      \"column\": \"finbert_neu\",\n      \"properties\": {\n        \"dtype\": \"float32\",\n        \"num_unique_values\": 1,\n        \"samples\": [\n          0.11707677692174911\n        ],\n        \"semantic_type\": \"\",\n        \"description\": \"\"\n      }\n    },\n    {\n      \"column\": \"finbert_sentiment\",\n      \"properties\": {\n        \"dtype\": \"string\",\n        \"num_unique_values\": 1,\n        \"samples\": [\n          \"negative\"\n        ],\n        \"semantic_type\": \"\",\n        \"description\": \"\"\n      }\n    },\n    {\n      \"column\": \"finbert_score\",\n      \"properties\": {\n        \"dtype\": \"float32\",\n        \"num_unique_values\": 1,\n        \"samples\": [\n          -0.7544868588447571\n        ],\n        \"semantic_type\": \"\",\n        \"description\": \"\"\n      }\n    }\n  ]\n}"
            }
          },
          "metadata": {},
          "execution_count": 22
        }
      ],
      "source": [
        "df[\n",
        "    [\n",
        "        \"content\",\n",
        "        \"finbert_pos\",\n",
        "        \"finbert_neg\",\n",
        "        \"finbert_neu\",\n",
        "        \"finbert_sentiment\",\n",
        "        \"finbert_score\",\n",
        "    ]\n",
        "]"
      ]
    },
    {
      "cell_type": "code",
      "source": [],
      "metadata": {
        "id": "2xgs6nR1wQw1"
      },
      "execution_count": null,
      "outputs": []
    }
  ],
  "metadata": {
    "kernelspec": {
      "display_name": ".venv",
      "language": "python",
      "name": "python3"
    },
    "language_info": {
      "codemirror_mode": {
        "name": "ipython",
        "version": 3
      },
      "file_extension": ".py",
      "mimetype": "text/x-python",
      "name": "python",
      "nbconvert_exporter": "python",
      "pygments_lexer": "ipython3",
      "version": "3.12.2"
    },
    "colab": {
      "provenance": []
    },
    "widgets": {
      "application/vnd.jupyter.widget-state+json": {
        "f9e42423f6c94d4080eebaa5059c3b28": {
          "model_module": "@jupyter-widgets/controls",
          "model_name": "HBoxModel",
          "model_module_version": "1.5.0",
          "state": {
            "_dom_classes": [],
            "_model_module": "@jupyter-widgets/controls",
            "_model_module_version": "1.5.0",
            "_model_name": "HBoxModel",
            "_view_count": null,
            "_view_module": "@jupyter-widgets/controls",
            "_view_module_version": "1.5.0",
            "_view_name": "HBoxView",
            "box_style": "",
            "children": [
              "IPY_MODEL_2fee5d3eff2a43f0b84c272bc4715f56",
              "IPY_MODEL_a864420df4544130b3263ff08a28c50f",
              "IPY_MODEL_9587d2a9f05149c597384bd073822e0c"
            ],
            "layout": "IPY_MODEL_4f32cdc367bb45c2a8f6e8793e694125"
          }
        },
        "2fee5d3eff2a43f0b84c272bc4715f56": {
          "model_module": "@jupyter-widgets/controls",
          "model_name": "HTMLModel",
          "model_module_version": "1.5.0",
          "state": {
            "_dom_classes": [],
            "_model_module": "@jupyter-widgets/controls",
            "_model_module_version": "1.5.0",
            "_model_name": "HTMLModel",
            "_view_count": null,
            "_view_module": "@jupyter-widgets/controls",
            "_view_module_version": "1.5.0",
            "_view_name": "HTMLView",
            "description": "",
            "description_tooltip": null,
            "layout": "IPY_MODEL_29f28450694842b7b19cc28e48403670",
            "placeholder": "​",
            "style": "IPY_MODEL_b31ca75a2e4946cc8024a6d437b42257",
            "value": "pytorch_model.bin: 100%"
          }
        },
        "a864420df4544130b3263ff08a28c50f": {
          "model_module": "@jupyter-widgets/controls",
          "model_name": "FloatProgressModel",
          "model_module_version": "1.5.0",
          "state": {
            "_dom_classes": [],
            "_model_module": "@jupyter-widgets/controls",
            "_model_module_version": "1.5.0",
            "_model_name": "FloatProgressModel",
            "_view_count": null,
            "_view_module": "@jupyter-widgets/controls",
            "_view_module_version": "1.5.0",
            "_view_name": "ProgressView",
            "bar_style": "success",
            "description": "",
            "description_tooltip": null,
            "layout": "IPY_MODEL_06ef7219452c4f5c9175b90bc9cd6112",
            "max": 437992753,
            "min": 0,
            "orientation": "horizontal",
            "style": "IPY_MODEL_7b7c75c874fb4dc3a9be6f4985d0724f",
            "value": 437992753
          }
        },
        "9587d2a9f05149c597384bd073822e0c": {
          "model_module": "@jupyter-widgets/controls",
          "model_name": "HTMLModel",
          "model_module_version": "1.5.0",
          "state": {
            "_dom_classes": [],
            "_model_module": "@jupyter-widgets/controls",
            "_model_module_version": "1.5.0",
            "_model_name": "HTMLModel",
            "_view_count": null,
            "_view_module": "@jupyter-widgets/controls",
            "_view_module_version": "1.5.0",
            "_view_name": "HTMLView",
            "description": "",
            "description_tooltip": null,
            "layout": "IPY_MODEL_e6f69db1aed94daaa977baeeb6213141",
            "placeholder": "​",
            "style": "IPY_MODEL_2ffdc58486fa4d38a718ea33de8cd6d4",
            "value": " 438M/438M [00:03&lt;00:00, 138MB/s]"
          }
        },
        "4f32cdc367bb45c2a8f6e8793e694125": {
          "model_module": "@jupyter-widgets/base",
          "model_name": "LayoutModel",
          "model_module_version": "1.2.0",
          "state": {
            "_model_module": "@jupyter-widgets/base",
            "_model_module_version": "1.2.0",
            "_model_name": "LayoutModel",
            "_view_count": null,
            "_view_module": "@jupyter-widgets/base",
            "_view_module_version": "1.2.0",
            "_view_name": "LayoutView",
            "align_content": null,
            "align_items": null,
            "align_self": null,
            "border": null,
            "bottom": null,
            "display": null,
            "flex": null,
            "flex_flow": null,
            "grid_area": null,
            "grid_auto_columns": null,
            "grid_auto_flow": null,
            "grid_auto_rows": null,
            "grid_column": null,
            "grid_gap": null,
            "grid_row": null,
            "grid_template_areas": null,
            "grid_template_columns": null,
            "grid_template_rows": null,
            "height": null,
            "justify_content": null,
            "justify_items": null,
            "left": null,
            "margin": null,
            "max_height": null,
            "max_width": null,
            "min_height": null,
            "min_width": null,
            "object_fit": null,
            "object_position": null,
            "order": null,
            "overflow": null,
            "overflow_x": null,
            "overflow_y": null,
            "padding": null,
            "right": null,
            "top": null,
            "visibility": null,
            "width": null
          }
        },
        "29f28450694842b7b19cc28e48403670": {
          "model_module": "@jupyter-widgets/base",
          "model_name": "LayoutModel",
          "model_module_version": "1.2.0",
          "state": {
            "_model_module": "@jupyter-widgets/base",
            "_model_module_version": "1.2.0",
            "_model_name": "LayoutModel",
            "_view_count": null,
            "_view_module": "@jupyter-widgets/base",
            "_view_module_version": "1.2.0",
            "_view_name": "LayoutView",
            "align_content": null,
            "align_items": null,
            "align_self": null,
            "border": null,
            "bottom": null,
            "display": null,
            "flex": null,
            "flex_flow": null,
            "grid_area": null,
            "grid_auto_columns": null,
            "grid_auto_flow": null,
            "grid_auto_rows": null,
            "grid_column": null,
            "grid_gap": null,
            "grid_row": null,
            "grid_template_areas": null,
            "grid_template_columns": null,
            "grid_template_rows": null,
            "height": null,
            "justify_content": null,
            "justify_items": null,
            "left": null,
            "margin": null,
            "max_height": null,
            "max_width": null,
            "min_height": null,
            "min_width": null,
            "object_fit": null,
            "object_position": null,
            "order": null,
            "overflow": null,
            "overflow_x": null,
            "overflow_y": null,
            "padding": null,
            "right": null,
            "top": null,
            "visibility": null,
            "width": null
          }
        },
        "b31ca75a2e4946cc8024a6d437b42257": {
          "model_module": "@jupyter-widgets/controls",
          "model_name": "DescriptionStyleModel",
          "model_module_version": "1.5.0",
          "state": {
            "_model_module": "@jupyter-widgets/controls",
            "_model_module_version": "1.5.0",
            "_model_name": "DescriptionStyleModel",
            "_view_count": null,
            "_view_module": "@jupyter-widgets/base",
            "_view_module_version": "1.2.0",
            "_view_name": "StyleView",
            "description_width": ""
          }
        },
        "06ef7219452c4f5c9175b90bc9cd6112": {
          "model_module": "@jupyter-widgets/base",
          "model_name": "LayoutModel",
          "model_module_version": "1.2.0",
          "state": {
            "_model_module": "@jupyter-widgets/base",
            "_model_module_version": "1.2.0",
            "_model_name": "LayoutModel",
            "_view_count": null,
            "_view_module": "@jupyter-widgets/base",
            "_view_module_version": "1.2.0",
            "_view_name": "LayoutView",
            "align_content": null,
            "align_items": null,
            "align_self": null,
            "border": null,
            "bottom": null,
            "display": null,
            "flex": null,
            "flex_flow": null,
            "grid_area": null,
            "grid_auto_columns": null,
            "grid_auto_flow": null,
            "grid_auto_rows": null,
            "grid_column": null,
            "grid_gap": null,
            "grid_row": null,
            "grid_template_areas": null,
            "grid_template_columns": null,
            "grid_template_rows": null,
            "height": null,
            "justify_content": null,
            "justify_items": null,
            "left": null,
            "margin": null,
            "max_height": null,
            "max_width": null,
            "min_height": null,
            "min_width": null,
            "object_fit": null,
            "object_position": null,
            "order": null,
            "overflow": null,
            "overflow_x": null,
            "overflow_y": null,
            "padding": null,
            "right": null,
            "top": null,
            "visibility": null,
            "width": null
          }
        },
        "7b7c75c874fb4dc3a9be6f4985d0724f": {
          "model_module": "@jupyter-widgets/controls",
          "model_name": "ProgressStyleModel",
          "model_module_version": "1.5.0",
          "state": {
            "_model_module": "@jupyter-widgets/controls",
            "_model_module_version": "1.5.0",
            "_model_name": "ProgressStyleModel",
            "_view_count": null,
            "_view_module": "@jupyter-widgets/base",
            "_view_module_version": "1.2.0",
            "_view_name": "StyleView",
            "bar_color": null,
            "description_width": ""
          }
        },
        "e6f69db1aed94daaa977baeeb6213141": {
          "model_module": "@jupyter-widgets/base",
          "model_name": "LayoutModel",
          "model_module_version": "1.2.0",
          "state": {
            "_model_module": "@jupyter-widgets/base",
            "_model_module_version": "1.2.0",
            "_model_name": "LayoutModel",
            "_view_count": null,
            "_view_module": "@jupyter-widgets/base",
            "_view_module_version": "1.2.0",
            "_view_name": "LayoutView",
            "align_content": null,
            "align_items": null,
            "align_self": null,
            "border": null,
            "bottom": null,
            "display": null,
            "flex": null,
            "flex_flow": null,
            "grid_area": null,
            "grid_auto_columns": null,
            "grid_auto_flow": null,
            "grid_auto_rows": null,
            "grid_column": null,
            "grid_gap": null,
            "grid_row": null,
            "grid_template_areas": null,
            "grid_template_columns": null,
            "grid_template_rows": null,
            "height": null,
            "justify_content": null,
            "justify_items": null,
            "left": null,
            "margin": null,
            "max_height": null,
            "max_width": null,
            "min_height": null,
            "min_width": null,
            "object_fit": null,
            "object_position": null,
            "order": null,
            "overflow": null,
            "overflow_x": null,
            "overflow_y": null,
            "padding": null,
            "right": null,
            "top": null,
            "visibility": null,
            "width": null
          }
        },
        "2ffdc58486fa4d38a718ea33de8cd6d4": {
          "model_module": "@jupyter-widgets/controls",
          "model_name": "DescriptionStyleModel",
          "model_module_version": "1.5.0",
          "state": {
            "_model_module": "@jupyter-widgets/controls",
            "_model_module_version": "1.5.0",
            "_model_name": "DescriptionStyleModel",
            "_view_count": null,
            "_view_module": "@jupyter-widgets/base",
            "_view_module_version": "1.2.0",
            "_view_name": "StyleView",
            "description_width": ""
          }
        }
      }
    }
  },
  "nbformat": 4,
  "nbformat_minor": 0
}